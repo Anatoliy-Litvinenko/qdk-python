{
 "cells": [
  {
   "cell_type": "code",
   "execution_count": 1,
   "id": "b652233a",
   "metadata": {},
   "outputs": [],
   "source": [
    "from qdk.quantum_viz import QvizWidget"
   ]
  },
  {
   "cell_type": "code",
   "execution_count": 2,
   "id": "4a57964d",
   "metadata": {},
   "outputs": [],
   "source": [
    "entangle = {\n",
    "    \"qubits\": [{ \"id\": 0 }, { \"id\": 1, \"numChildren\": 1 }],\n",
    "    \"operations\": [\n",
    "        {\n",
    "            \"gate\": 'H',\n",
    "            \"targets\": [{ \"qId\": 0 }],\n",
    "        },\n",
    "        {\n",
    "            \"gate\": 'X',\n",
    "            \"isControlled\": \"true\",\n",
    "            \"controls\": [{ \"qId\": 0 }],\n",
    "            \"targets\": [{ \"qId\": 1 }],\n",
    "        },\n",
    "        {\n",
    "            \"gate\": 'Measure',\n",
    "            \"isMeasurement\": \"true\",\n",
    "            \"controls\": [{ \"qId\": 1 }],\n",
    "            \"targets\": [{ \"type\": 1, \"qId\": 1, \"cId\": 0 }],\n",
    "        },\n",
    "    ],\n",
    "}"
   ]
  },
  {
   "cell_type": "code",
   "execution_count": 4,
   "id": "3468f2ef",
   "metadata": {},
   "outputs": [],
   "source": [
    "widget = QvizWidget(program=entangle)"
   ]
  },
  {
   "cell_type": "code",
   "execution_count": 6,
   "id": "ecd20c5e",
   "metadata": {},
   "outputs": [
    {
     "data": {
      "text/html": [
       "\n",
       "<script type=\"text/javascript\">\n",
       "require.config({\n",
       "    paths: {\n",
       "        qviz: 'https://unpkg.com/@microsoft/quantum-viz.js@1.0.2/dist/qviz.min'\n",
       "    }\n",
       "});\n",
       "console.log(\"ad40fd40e9bb11ebb39d00155d81d698\");\n",
       "console.log({'qubits': [{'id': 0}, {'id': 1, 'numChildren': 1}], 'operations': [{'gate': 'H', 'targets': [{'qId': 0}]}, {'gate': 'X', 'isControlled': 'true', 'controls': [{'qId': 0}], 'targets': [{'qId': 1}]}, {'gate': 'Measure', 'isMeasurement': 'true', 'controls': [{'qId': 1}], 'targets': [{'type': 1, 'qId': 1, 'cId': 0}]}]});\n",
       "\n",
       "require(['qviz'], function(qviz) {\n",
       "    function renderQuantumProgram(program) {\n",
       "        const targetDiv = document.getElementById('JSApp_ad40fd40e9bb11ebb39d00155d81d698');\n",
       "        if (targetDiv != null) {\n",
       "            qviz.draw(program, targetDiv, qviz.STYLES['Default']);\n",
       "        }\n",
       "    }\n",
       "    const data = {'qubits': [{'id': 0}, {'id': 1, 'numChildren': 1}], 'operations': [{'gate': 'H', 'targets': [{'qId': 0}]}, {'gate': 'X', 'isControlled': 'true', 'controls': [{'qId': 0}], 'targets': [{'qId': 1}]}, {'gate': 'Measure', 'isMeasurement': 'true', 'controls': [{'qId': 1}], 'targets': [{'type': 1, 'qId': 1, 'cId': 0}]}]};\n",
       "    renderQuantumProgram(data);\n",
       "});\n",
       "</script>\n",
       "<div id=\"JSApp_ad40fd40e9bb11ebb39d00155d81d698\"></div>\n",
       "<div id=\"msg\"></div>\n"
      ],
      "text/plain": [
       "<IPython.core.display.HTML object>"
      ]
     },
     "metadata": {},
     "output_type": "display_data"
    }
   ],
   "source": [
    "widget"
   ]
  },
  {
   "cell_type": "code",
   "execution_count": null,
   "id": "42a998c5",
   "metadata": {},
   "outputs": [],
   "source": []
  }
 ],
 "metadata": {
  "kernelspec": {
   "display_name": "Python 3",
   "language": "python",
   "name": "python3"
  },
  "language_info": {
   "codemirror_mode": {
    "name": "ipython",
    "version": 3
   },
   "file_extension": ".py",
   "mimetype": "text/x-python",
   "name": "python",
   "nbconvert_exporter": "python",
   "pygments_lexer": "ipython3",
   "version": "3.7.10"
  }
 },
 "nbformat": 4,
 "nbformat_minor": 5
}
