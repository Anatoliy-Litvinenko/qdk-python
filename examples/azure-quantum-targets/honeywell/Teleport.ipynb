{
 "cells": [
  {
   "cell_type": "markdown",
   "source": [
    "# Teleport on Honeywell via Azure Quantum\n",
    "\n",
    "This example notebook shows how to run a Teleport circuit on the Honeywell Quantum Computing target.\n",
    "\n",
    "To install all dependencies for this example, please run:\n",
    "\n",
    "```\n",
    "pip install azure-quantum==0.18.2108.156779a1 --extra-index-url=https://pkgs.dev.azure.com/ms-quantum-public/9af4e09e-a436-4aca-9559-2094cfe8d80c/_packaging/alpha/pypi/simple/\n",
    "```"
   ],
   "metadata": {}
  },
  {
   "cell_type": "code",
   "execution_count": 1,
   "source": [
    "from azure.quantum import Workspace\n",
    "from azure.quantum.target import Honeywell\n",
    "\n",
    "# Enter your workspace details here\n",
    "# Find your resource ID and location via portal.azure.com\n",
    "workspace = Workspace(\n",
    "    resource_id=\"\",\n",
    "    location=\"\"\n",
    ")"
   ],
   "outputs": [],
   "metadata": {}
  },
  {
   "cell_type": "code",
   "execution_count": 2,
   "source": [
    "# Get workspace targets\n",
    "workspace.get_targets()"
   ],
   "outputs": [
    {
     "output_type": "execute_result",
     "data": {
      "text/plain": [
       "{'Microsoft': ['microsoft.simulatedannealing.fpga',\n",
       "  'microsoft.simulatedannealing-parameterfree.fpga',\n",
       "  'microsoft.paralleltempering-parameterfree.cpu',\n",
       "  'microsoft.paralleltempering.cpu',\n",
       "  'microsoft.simulatedannealing-parameterfree.cpu',\n",
       "  'microsoft.simulatedannealing.cpu',\n",
       "  'microsoft.tabu-parameterfree.cpu',\n",
       "  'microsoft.tabu.cpu',\n",
       "  'microsoft.qmc.cpu',\n",
       "  'microsoft.populationannealing.cpu',\n",
       "  'microsoft.substochasticmontecarlo.cpu',\n",
       "  'microsoft.substochasticmontecarlo-parameterfree.cpu',\n",
       "  'microsoft.populationannealing-parameterfree.cpu'],\n",
       " 'honeywell': ['honeywell.hqs-lt-s1',\n",
       "  'honeywell.hqs-lt-s1-apival',\n",
       "  'honeywell.hqs-lt-s1-sim'],\n",
       " 'ionq': ['ionq.qpu', 'ionq.simulator']}"
      ]
     },
     "metadata": {},
     "execution_count": 2
    }
   ],
   "metadata": {}
  },
  {
   "cell_type": "code",
   "execution_count": 3,
   "source": [
    "# Create raw OpenQASM circuit. \n",
    "circuit = \"\"\"OPENQASM 2.0;\n",
    "include \"qelib1.inc\";\n",
    "qreg q[3];\n",
    "creg c0[1];\n",
    "creg c1[3];\n",
    "h q[0];\n",
    "cx q[0], q[1];\n",
    "x q[2];\n",
    "h q[2];\n",
    "cx q[2], q[0];\n",
    "h q[2];\n",
    "measure q[0] -> c1[0];\n",
    "c0[0] = c1[0];\n",
    "if (c0==1) x q[1];\n",
    "c0[0] = 0;\n",
    "measure q[2] -> c1[1];\n",
    "c0[0] = c1[1];\n",
    "if (c0==1) z q[1];\n",
    "c0[0] = 0;\n",
    "h q[1];\n",
    "measure q[1] -> c1[2];\n",
    "\"\"\""
   ],
   "outputs": [],
   "metadata": {}
  },
  {
   "cell_type": "markdown",
   "source": [
    "### Run on Honeywell API validator"
   ],
   "metadata": {}
  },
  {
   "cell_type": "code",
   "execution_count": 4,
   "source": [
    "target = Honeywell(workspace=workspace, target=\"honeywell.hqs-lt-s1-apival\")\n",
    "job = target.submit(circuit)"
   ],
   "outputs": [],
   "metadata": {}
  },
  {
   "cell_type": "code",
   "execution_count": 5,
   "source": [
    "job.id"
   ],
   "outputs": [
    {
     "output_type": "execute_result",
     "data": {
      "text/plain": [
       "'c04c1126-faec-11eb-9e52-00155df1914a'"
      ]
     },
     "metadata": {},
     "execution_count": 5
    }
   ],
   "metadata": {}
  },
  {
   "cell_type": "code",
   "execution_count": 6,
   "source": [
    "results = job.get_results()\n",
    "results"
   ],
   "outputs": [
    {
     "output_type": "stream",
     "name": "stdout",
     "text": [
      ".............."
     ]
    },
    {
     "output_type": "execute_result",
     "data": {
      "text/plain": [
       "{'c0': ['0'], 'c1': ['000']}"
      ]
     },
     "metadata": {},
     "execution_count": 6
    }
   ],
   "metadata": {}
  },
  {
   "cell_type": "markdown",
   "source": [
    "### Run on Honeywell Simulator"
   ],
   "metadata": {}
  },
  {
   "cell_type": "code",
   "execution_count": 7,
   "source": [
    "target = Honeywell(workspace=workspace, target=\"honeywell.hqs-lt-s1-sim\")\n",
    "job = target.submit(circuit)"
   ],
   "outputs": [],
   "metadata": {}
  },
  {
   "cell_type": "code",
   "execution_count": 8,
   "source": [
    "job.id"
   ],
   "outputs": [
    {
     "output_type": "execute_result",
     "data": {
      "text/plain": [
       "'5b1081b0-faed-11eb-9e52-00155df1914a'"
      ]
     },
     "metadata": {},
     "execution_count": 8
    }
   ],
   "metadata": {}
  },
  {
   "cell_type": "code",
   "execution_count": null,
   "source": [
    "results = job.get_results()\n",
    "results"
   ],
   "outputs": [
    {
     "output_type": "stream",
     "name": "stdout",
     "text": [
      "..................."
     ]
    },
    {
     "output_type": "execute_result",
     "data": {
      "text/plain": [
       "{'c0': ['0'], 'c1': ['111']}"
      ]
     },
     "metadata": {},
     "execution_count": 6
    }
   ],
   "metadata": {}
  },
  {
   "cell_type": "code",
   "execution_count": null,
   "source": [],
   "outputs": [],
   "metadata": {}
  }
 ],
 "metadata": {
  "kernelspec": {
   "name": "python3",
   "display_name": "Python 3.7.10 64-bit ('azure-quantum': conda)"
  },
  "language_info": {
   "codemirror_mode": {
    "name": "ipython",
    "version": 3
   },
   "file_extension": ".py",
   "mimetype": "text/x-python",
   "name": "python",
   "nbconvert_exporter": "python",
   "pygments_lexer": "ipython3",
   "version": "3.7.10"
  },
  "interpreter": {
   "hash": "506b47c63e104e52a519de0609a284d846e996cd7c1c78a3375aa75d9d74138e"
  }
 },
 "nbformat": 4,
 "nbformat_minor": 5
}