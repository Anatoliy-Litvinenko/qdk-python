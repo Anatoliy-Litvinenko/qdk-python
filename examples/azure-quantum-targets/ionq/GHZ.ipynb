{
 "cells": [
  {
   "cell_type": "markdown",
   "source": [
    "# 3-qubit GHZ state on IonQ via Azure Quantum\n",
    "\n",
    "This example notebook shows how to create and measure a 3-qubit GHZ state on the IonQ Quantum Computing target.\n",
    "\n",
    "To install all dependencies for this example, please run:\n",
    "\n",
    "```\n",
    "pip install azure-quantum==0.18.2108.156779a1 matplotlib --extra-index-url=https://pkgs.dev.azure.com/ms-quantum-public/9af4e09e-a436-4aca-9559-2094cfe8d80c/_packaging/alpha/pypi/simple/\n",
    "```"
   ],
   "metadata": {}
  },
  {
   "cell_type": "code",
   "execution_count": 1,
   "source": [
    "from azure.quantum import Workspace\n",
    "from azure.quantum.target import IonQ\n",
    "\n",
    "# Enter your workspace details here\n",
    "# Find your resource ID and location via portal.azure.com\n",
    "workspace = Workspace(\n",
    "    resource_id=\"\",\n",
    "    location=\"\"\n",
    ")"
   ],
   "outputs": [],
   "metadata": {}
  },
  {
   "cell_type": "code",
   "execution_count": 2,
   "source": [
    "# Get workspace targets\n",
    "workspace.get_targets()"
   ],
   "outputs": [
    {
     "output_type": "execute_result",
     "data": {
      "text/plain": [
       "{'Microsoft': ['microsoft.simulatedannealing.fpga',\n",
       "  'microsoft.simulatedannealing-parameterfree.fpga',\n",
       "  'microsoft.paralleltempering-parameterfree.cpu',\n",
       "  'microsoft.paralleltempering.cpu',\n",
       "  'microsoft.simulatedannealing-parameterfree.cpu',\n",
       "  'microsoft.simulatedannealing.cpu',\n",
       "  'microsoft.tabu-parameterfree.cpu',\n",
       "  'microsoft.tabu.cpu',\n",
       "  'microsoft.qmc.cpu',\n",
       "  'microsoft.populationannealing.cpu',\n",
       "  'microsoft.substochasticmontecarlo.cpu',\n",
       "  'microsoft.substochasticmontecarlo-parameterfree.cpu',\n",
       "  'microsoft.populationannealing-parameterfree.cpu'],\n",
       " 'ionq': ['ionq.qpu', 'ionq.simulator']}"
      ]
     },
     "metadata": {},
     "execution_count": 2
    }
   ],
   "metadata": {}
  },
  {
   "cell_type": "code",
   "execution_count": 3,
   "source": [
    "circuit = {\n",
    "    \"qubits\": 3,\n",
    "    \"circuit\": [\n",
    "        {\n",
    "        \"gate\": \"h\",\n",
    "        \"target\": 0\n",
    "        },\n",
    "        {\n",
    "        \"gate\": \"cnot\",\n",
    "        \"control\": 0,\n",
    "        \"target\": 1\n",
    "        },\n",
    "        {\n",
    "        \"gate\": \"cnot\",\n",
    "        \"control\": 0,\n",
    "        \"target\": 2\n",
    "        },\n",
    "    ]\n",
    "}"
   ],
   "outputs": [],
   "metadata": {}
  },
  {
   "cell_type": "markdown",
   "source": [
    "### Run on IonQ Simulator"
   ],
   "metadata": {}
  },
  {
   "cell_type": "code",
   "execution_count": 4,
   "source": [
    "target = IonQ(workspace=workspace, target=\"ionq.simulator\")\n",
    "job = target.submit(circuit)"
   ],
   "outputs": [],
   "metadata": {}
  },
  {
   "cell_type": "code",
   "execution_count": 5,
   "source": [
    "job.id"
   ],
   "outputs": [
    {
     "output_type": "execute_result",
     "data": {
      "text/plain": [
       "'3ca1a162-faea-11eb-9e93-00155df1914a'"
      ]
     },
     "metadata": {},
     "execution_count": 5
    }
   ],
   "metadata": {}
  },
  {
   "cell_type": "code",
   "execution_count": 6,
   "source": [
    "results = job.get_results()\n",
    "results"
   ],
   "outputs": [
    {
     "output_type": "stream",
     "name": "stdout",
     "text": [
      "....."
     ]
    },
    {
     "output_type": "execute_result",
     "data": {
      "text/plain": [
       "{'duration': 8240356, 'histogram': {'0': 0.5, '7': 0.5}}"
      ]
     },
     "metadata": {},
     "execution_count": 6
    }
   ],
   "metadata": {}
  },
  {
   "cell_type": "code",
   "execution_count": 7,
   "source": [
    "%matplotlib inline\n",
    "import pylab as pl\n",
    "pl.rcParams[\"font.size\"] = 16\n",
    "hist = {format(n, \"03b\"): 0 for n in range(8)}\n",
    "hist.update({format(int(k), \"03b\"): v for k, v in results[\"histogram\"].items()})\n",
    "pl.bar(hist.keys(), hist.values())\n",
    "pl.ylabel(\"Probabilities\")"
   ],
   "outputs": [
    {
     "output_type": "execute_result",
     "data": {
      "text/plain": [
       "Text(0, 0.5, 'Probabilities')"
      ]
     },
     "metadata": {},
     "execution_count": 7
    },
    {
     "output_type": "display_data",
     "data": {
      "text/plain": [
       "<Figure size 432x288 with 1 Axes>"
      ],
      "image/png": "[encoded data removed]"
     },
     "metadata": {
      "needs_background": "light"
     }
    }
   ],
   "metadata": {
    "scrolled": true
   }
  },
  {
   "cell_type": "markdown",
   "source": [
    "### Run on IonQ QPU (note: depending on queue times this may take a while to run!)"
   ],
   "metadata": {}
  },
  {
   "cell_type": "code",
   "execution_count": 8,
   "source": [
    "qpu_target = IonQ(workspace=workspace, target=\"ionq.qpu\")\n",
    "qpu_job = qpu_target.submit(circuit)\n",
    "qpu_job.id"
   ],
   "outputs": [
    {
     "output_type": "execute_result",
     "data": {
      "text/plain": [
       "'7a14dd3e-fa72-11eb-83af-00155df1914a'"
      ]
     },
     "metadata": {},
     "execution_count": 8
    }
   ],
   "metadata": {}
  },
  {
   "cell_type": "code",
   "execution_count": 10,
   "source": [
    "results = qpu_job.get_results()\n",
    "results"
   ],
   "outputs": [
    {
     "output_type": "execute_result",
     "data": {
      "text/plain": [
       "{'histogram': {'0': 0.59, '2': 0.01, '3': 0.03, '7': 0.37}}"
      ]
     },
     "metadata": {},
     "execution_count": 10
    }
   ],
   "metadata": {}
  },
  {
   "cell_type": "code",
   "execution_count": 11,
   "source": [
    "pl.rcParams[\"font.size\"] = 16\n",
    "hist = {format(n, \"03b\"): 0 for n in range(8)}\n",
    "hist.update({format(int(k), \"03b\"): v for k, v in results[\"histogram\"].items()})\n",
    "pl.bar(hist.keys(), hist.values())\n",
    "pl.ylabel(\"Probabilities\")"
   ],
   "outputs": [
    {
     "output_type": "execute_result",
     "data": {
      "text/plain": [
       "Text(0, 0.5, 'Probabilities')"
      ]
     },
     "metadata": {},
     "execution_count": 11
    },
    {
     "output_type": "display_data",
     "data": {
      "text/plain": [
       "<Figure size 432x288 with 1 Axes>"
      ],
      "image/png": "[encoded data removed]"
     },
     "metadata": {
      "needs_background": "light"
     }
    }
   ],
   "metadata": {}
  },
  {
   "cell_type": "code",
   "execution_count": null,
   "source": [],
   "outputs": [],
   "metadata": {}
  }
 ],
 "metadata": {
  "kernelspec": {
   "display_name": "Python 3",
   "language": "python",
   "name": "python3"
  },
  "language_info": {
   "codemirror_mode": {
    "name": "ipython",
    "version": 3
   },
   "file_extension": ".py",
   "mimetype": "text/x-python",
   "name": "python",
   "nbconvert_exporter": "python",
   "pygments_lexer": "ipython3",
   "version": "3.7.10"
  }
 },
 "nbformat": 4,
 "nbformat_minor": 5
}