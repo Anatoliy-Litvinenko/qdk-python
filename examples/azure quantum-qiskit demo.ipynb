{
 "cells": [
  {
   "cell_type": "code",
   "execution_count": 1,
   "id": "41277d8d",
   "metadata": {},
   "outputs": [],
   "source": [
    "from qiskit import QuantumCircuit\n",
    "from azure.quantum_qiskit import AzureQuantumProvider\n",
    "\n",
    "from utils import plot_results\n",
    "\n",
    "# Azure Quantum Provider\n",
    "provider = AzureQuantumProvider(\n",
    "  resource_id=\"/subscriptions/916dfd6d-030c-4bd9-b579-7bb6d1926e97/resourceGroups/anpaz-demos/providers/Microsoft.Quantum/Workspaces/demo15\",\n",
    "  location=\"westus\"\n",
    ")"
   ]
  },
  {
   "cell_type": "code",
   "execution_count": 2,
   "id": "116a42a9",
   "metadata": {},
   "outputs": [
    {
     "name": "stdout",
     "output_type": "stream",
     "text": [
      "['ionq.simulator', 'ionq.qpu']\n"
     ]
    }
   ],
   "source": [
    "# Show all current supported backends in this workspace:\n",
    "print([backend.name() for backend in provider.backends()])\n"
   ]
  },
  {
   "cell_type": "code",
   "execution_count": 3,
   "id": "82670d88",
   "metadata": {},
   "outputs": [
    {
     "name": "stdout",
     "output_type": "stream",
     "text": [
      "================== Running circuit: ==================\n",
      "     ┌───┐     ┌─┐   \n",
      "q_0: ┤ H ├──■──┤M├───\n",
      "     └───┘┌─┴─┐└╥┘┌─┐\n",
      "q_1: ─────┤ X ├─╫─┤M├\n",
      "          └───┘ ║ └╥┘\n",
      "c: 2/═══════════╩══╩═\n",
      "                0  1 \n",
      "======================================================\n"
     ]
    }
   ],
   "source": [
    "# Create a Quantum Circuit acting on the q register\n",
    "circuit = QuantumCircuit(2, 2)\n",
    "circuit.name = \"Qiskit Sample - MBR\"\n",
    "circuit.h(0)\n",
    "circuit.cx(0, 1)\n",
    "circuit.measure([0,1], [0, 1])\n",
    "\n",
    "# Print out the circuit\n",
    "print(\"================== Running circuit: ==================\")\n",
    "print(circuit.draw())\n",
    "print(\"======================================================\")\n"
   ]
  },
  {
   "cell_type": "code",
   "execution_count": 4,
   "id": "941f7e22",
   "metadata": {},
   "outputs": [
    {
     "name": "stdout",
     "output_type": "stream",
     "text": [
      "Job id 8cbc0ee4-ee20-11eb-a7be-2816a847b9a3\n"
     ]
    }
   ],
   "source": [
    "# Get IonQ's simulator backend:\n",
    "simulator_backend = provider.get_backend(\"ionq.simulator\")\n",
    "\n",
    "# Submit the circuit to run on Azure Quantum\n",
    "job = simulator_backend.run(circuit, shots=250)\n",
    "id = job.id()\n",
    "print(\"Job id\", id)"
   ]
  },
  {
   "cell_type": "markdown",
   "id": "d33bb411",
   "metadata": {},
   "source": [
    "This is just a simple function to plot the result's histogram using `matplotlib`."
   ]
  },
  {
   "cell_type": "code",
   "execution_count": 5,
   "id": "476543f8",
   "metadata": {},
   "outputs": [],
   "source": [
    "import matplotlib.pyplot as plt\n",
    "\n",
    "def plot_results(job):\n",
    "    result = job.result()\n",
    "    count = int(job._azure_job.details.metadata['qubits'])\n",
    "    histogram = result.results['histogram']\n",
    "\n",
    "    data = []\n",
    "    for i in range(1 << count):\n",
    "        value = histogram[str(i)] if str(i) in histogram else 0\n",
    "        data.append(value)\n",
    "\n",
    "    axes = plt.gca()\n",
    "    axes.set_ylim([0,1])\n",
    "\n",
    "    plt.bar(range(1 << count), data)\n",
    "    plt.show()\n"
   ]
  },
  {
   "cell_type": "code",
   "execution_count": 6,
   "id": "80330d36",
   "metadata": {},
   "outputs": [
    {
     "name": "stdout",
     "output_type": "stream",
     "text": [
      "\n",
      "Results histogram {'0': 0.5, '3': 0.5}\n"
     ]
    },
    {
     "data": {
      "image/png": "[encoded data removed]",
      "text/plain": [
       "<Figure size 432x288 with 1 Axes>"
      ]
     },
     "metadata": {
      "needs_background": "light"
     },
     "output_type": "display_data"
    }
   ],
   "source": [
    "# Get the job results (this method waits for the Job to complete):\n",
    "result = job.result()\n",
    "histogram = result.results['histogram']\n",
    "print()\n",
    "print(\"Results histogram\", histogram)\n",
    "\n",
    "# Show the histogram as a plot:\n",
    "plot_results(job)\n"
   ]
  },
  {
   "cell_type": "code",
   "execution_count": null,
   "id": "618fbc89",
   "metadata": {},
   "outputs": [],
   "source": []
  }
 ],
 "metadata": {
  "kernelspec": {
   "display_name": "Python 3 (ipykernel)",
   "language": "python",
   "name": "python3"
  },
  "language_info": {
   "codemirror_mode": {
    "name": "ipython",
    "version": 3
   },
   "file_extension": ".py",
   "mimetype": "text/x-python",
   "name": "python",
   "nbconvert_exporter": "python",
   "pygments_lexer": "ipython3",
   "version": "3.7.8"
  }
 },
 "nbformat": 4,
 "nbformat_minor": 5
}
